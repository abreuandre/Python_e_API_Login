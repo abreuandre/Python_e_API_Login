{
 "cells": [
  {
   "cell_type": "markdown",
   "id": "f1b97525-9175-4982-abfe-f8e746f3fd9c",
   "metadata": {},
   "source": [
    "Python e API com Login\n",
    "\n",
    "O 1º passo de toda API com Login é criar uma conta e pegar suas credenciais\n",
    "\n",
    "No seu código, o 1º passo é sempre estabelecer a conexão com a API, usando seu login e suas credenciais\n",
    ". Como cada API é uma ferramenta diferente, cada uma delas pode exigir que você faça algum tipo de configuração, que vai estar explicada na API. No nosso caso, teremos que validar um número e criar um número de envio.\n",
    ". Depois, usamos os métodos da API normalmente para fazer o que queremos. No nosso caso, enviar um SMS.\n",
    "\n",
    "\n",
    "1. Vamos criar um login no Twilio\n",
    "\n",
    "   https://www.twilio.com/docs/libraries/python\n",
    "\n",
    "2. Depois do Login, vamos pegar 3 informações:\n",
    ". ID da Conta\n",
    ". Token\n",
    ". Número de envio\n",
    "\n",
    "3. Agora vamos validar um número porque no Twilio, enviar SMS para um número válido é de graça\n",
    "\n",
    "4. Agora podemos fazer o nosso código de acordo com as orientações do Twilio."
   ]
  }
 ],
 "metadata": {
  "kernelspec": {
   "display_name": "Python [conda env:base] *",
   "language": "python",
   "name": "conda-base-py"
  },
  "language_info": {
   "codemirror_mode": {
    "name": "ipython",
    "version": 3
   },
   "file_extension": ".py",
   "mimetype": "text/x-python",
   "name": "python",
   "nbconvert_exporter": "python",
   "pygments_lexer": "ipython3",
   "version": "3.12.7"
  }
 },
 "nbformat": 4,
 "nbformat_minor": 5
}
